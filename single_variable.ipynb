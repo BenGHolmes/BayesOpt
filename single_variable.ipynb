{
 "cells": [
  {
   "cell_type": "code",
   "execution_count": 1,
   "metadata": {},
   "outputs": [],
   "source": [
    "import matplotlib.pyplot as plt\n",
    "import numpy as np"
   ]
  },
  {
   "cell_type": "markdown",
   "metadata": {},
   "source": [
    "# Setup\n",
    "Start by defining the true function to be: $f(x) = -x^5 - x^3 + 2x$\n",
    "\n",
    "We'll attempt to optimize this function in the range [-1,1]. The function is plotted below, and the true max is given by $x=0.632$\n",
    "\n",
    "Much of this example is based on [https://arxiv.org/pdf/1807.02811.pdf] and [https://machinelearningmastery.com/what-is-bayesian-optimization/]. Go read the full tutorials to fill in any gaps that this notebook might miss."
   ]
  },
  {
   "cell_type": "code",
   "execution_count": 24,
   "metadata": {},
   "outputs": [
    {
     "data": {
      "image/png": "[encoded data removed]",
      "text/plain": [
       "<Figure size 432x288 with 1 Axes>"
      ]
     },
     "metadata": {
      "needs_background": "light"
     },
     "output_type": "display_data"
    }
   ],
   "source": [
    "x = np.linspace(-1,1,1000)\n",
    "y = -x**5 - x**3 + 2*x\n",
    "\n",
    "max_y = y.max()\n",
    "max_x = x[y.argmax()]\n",
    "\n",
    "plt.axhline(ls='--')\n",
    "plt.plot(x,y, color='k')\n",
    "plt.plot(max_x, max_y, marker='x', color='red', markersize=10)\n",
    "plt.show()"
   ]
  },
  {
   "cell_type": "markdown",
   "metadata": {},
   "source": [
    "# Bayesian Optimization\n",
    "The general idea with Bayesian Optimization is to optimize the function quickly in the case where $f(x)$ is computationally expensive to compute. The goal is to evaluate the function at the points that look most promising, which should reach a good approximation of the true max faster than random or exhaustive searching. To do this, we assume that the values $f(x)$ are drawn randomly from some prior probability distribution. We use all of the points where we have truely evaluated the function to define this distribution, and then find the point that with the largest expected improvement. That is, which point can we evaluate that may give us a value higher than our current max value? We then evaluate this point and update our prior. This runs repeatedly for a specified number of loops"
   ]
  },
  {
   "cell_type": "markdown",
   "metadata": {},
   "source": [
    "# Estimation Loop\n",
    "Here is where we begin approximating the function. The general idea for Bayesian optimization is to assume that the values $f(x)$ are drawn randomly from some prior probability distribution. For Gaussian Proccess regression (which is used here), this function is assumed to be a multivariate normal, with a particular mean vector and covariance matrix. \n",
    "\n",
    "We construct the mean vector by evaluating a mean function, $\\mu_0$, at each sampled $x_i$. We construct the covariance matrix by evaluating a covariance function (called a kernel) $\\Sigma_0$, at each pair of points $x_i, x_j$. The values $f(x)$ are then given by:\n",
    "\n",
    "$$f(x_{1:k}) \\sim \\text{Normal}\\Big( \\mu_0(x_{1:k}),\\Sigma_0(x_{1:k}, x_{1:k}) \\Big)$$\n",
    "\n",
    "where $x_{1:k}$ represents the sequence $[x_1, \\ldots, x_k]$, $\\mu_0(x_{1:k}) = [\\mu_0(x_1), \\ldots, \\mu_0(x_k)]$, $f(x_{1:k}) = [f(x_1), \\ldots, f(x_k)]$, and $\\Sigma_0(x_{1:k}, x_{1:k}) = [\\Sigma_0(x_{1}, x_{1}), \\ldots, \\Sigma_0(x_{1}, x_{k}); \\ldots ; \\Sigma_0(x_{k}, x_{1}), \\ldots, \\Sigma_0(x_{k}, x_{k})]$.\n",
    "\n",
    "Suppose we observe $f(x_{1:n})$ and want to infer the value of $f(x)$ at some new point $x$. We can compute the conditional distribution of $f(x)$ to be:\n",
    "\n",
    "$$f(x) | f(x_{1:n}) \\sim \\text{Normal} \\Big( \\mu_n(x), \\sigma^2_n(x) \\Big)$$\n",
    "$$\\mu_n(x) = \\Sigma_0(x, x_{1:n}) \\Sigma_0(x_{1:n}, x_{1:n})^{-1} \\Big( f(x_{1:n}) - \\mu_0(x_{1:n}) \\Big) + \\mu_0(x)$$\n",
    "$$\\sigma^2_n(x) = \\Sigma_0(x,x) - \\Sigma_0(x,x_{1:n})\\Sigma_0(x_{1:n},x_{1:n})^{-1}\\Sigma_0(x_{1:n},x)$$\n",
    "\n",
    "Rather than computing the above directly, it's often faster to use a Cholesky decomposition and solve the system of linear equations, but for this example we'll use the above. Additionally, we'll add a constant of $10^{-6}$ to each element along the diagonal of $\\Sigma_0(x_{1:n}, x_{1:n})$ to prevent the eigenvalues from approaching 0.\n",
    "\n",
    "## Mean Function\n",
    "For this example we'll use a constant mean function:\n",
    "$$\\mu_0(x) = \\mu$$\n",
    "\n",
    "## Kernel\n",
    "The kernel is used to give points that are close in the input space a high positive correlation. It helps to smooth the function and prevent large, unexpected jumps in the estimation.\n",
    "\n",
    "For this example we'll use a power exponential or Gaussian kernel:\n",
    "\n",
    "$$\\Sigma_0(x,x') = \\alpha_0 \\text{ exp}(-||x - x'||^2)$$\n",
    "$$||x-x'||^2 = \\sum_{i=1}^d\\alpha_i(x_i-x'_i)^2$$\n",
    "\n",
    "## Choosing Hyperparameters\n",
    "The above functions contain parameters (typically called hyperparameters) that must be chosen correctly to accurately represent the observed data. We denote the vector of parameters $\\eta$, and for the example above we have: $\\eta = [\\alpha_{0:d}, \\mu]$. To choose the hyperparameters, we set $\\eta$ to the value that maximizes the likelihood of our observations under our prior:\n",
    "\n",
    "$$\\hat \\eta = \\underset{\\eta}{\\text{argmax}} \\ P \\Big( f(x_{1:n}) | \\eta \\Big)$$\n",
    "\n",
    "## Acquisition Function\n",
    "For this example we use the Expected Improvement (EI) function. Suppose we have observed $n$ points already. Let $f_n^* = \\max_{i \\leq n} f(x_i)$. The improvement for a new point $x$ is $f(x) - f_n^* \\text{ if } f(x) \\gt f_n^*, \\text{ else } 0$. We can write this more compactly as $[f(x) - f_n^*]^+$ where $a^+ = \\max(a,0)$. Since $f(x)$ is unknown, we define the expected improvement to be:\n",
    "\n",
    "$$EI_n(x) :=  E_n\\Big[ [f(x) - f_n^*]^+ \\Big]$$\n",
    "\n",
    "Where $E_n[\\cdot] = E[\\cdot | x_{1:n}, y_{1:n}]$ is the expectation taken under the distribution given the previous observations. Our next point to evaluate is then given by:\n",
    "\n",
    "$$x_{n+1} = \\underset{x}{\\text{argmax}}\\ EI_n(x)$$"
   ]
  },
  {
   "cell_type": "markdown",
   "metadata": {},
   "source": [
    "# An Attempt at Implementation"
   ]
  },
  {
   "cell_type": "code",
   "execution_count": 58,
   "metadata": {},
   "outputs": [
    {
     "name": "stdout",
     "output_type": "stream",
     "text": [
      "(2, 1) (2, 1)\n"
     ]
    },
    {
     "data": {
      "image/png": "[encoded data removed]",
      "text/plain": [
       "<Figure size 432x288 with 1 Axes>"
      ]
     },
     "metadata": {
      "needs_background": "light"
     },
     "output_type": "display_data"
    },
    {
     "data": {
      "text/plain": [
       "array([0.63189615])"
      ]
     },
     "execution_count": 58,
     "metadata": {},
     "output_type": "execute_result"
    }
   ],
   "source": [
    "from sklearn.gaussian_process import GaussianProcessRegressor\n",
    "from scipy.stats import norm\n",
    "from warnings import catch_warnings, simplefilter\n",
    "\n",
    "\n",
    "def f(x):\n",
    "    \"\"\"Objective function for this example.\"\"\"\n",
    "    return -x**5 - x**3 + 2*x\n",
    "\n",
    "\n",
    "def expected_improvement(X, X_sample, y_sample, model):\n",
    "    \"\"\"Return EI at each point in X.\n",
    "    \n",
    "    Computes EI at points X based on sampled data X_sample and Y_sample\n",
    "    \"\"\"\n",
    "    with catch_warnings():\n",
    "        # Ignore some weird sklearn errors in prediction\n",
    "        simplefilter(\"ignore\")\n",
    "        mu, sigma = model.predict(X, return_std=True)  # Get mean and variance at X\n",
    "        opt = y_sample.max()  # Current optimal\n",
    "        sigma = sigma.reshape(-1,1)\n",
    "\n",
    "        imp = mu - opt  # Improvement is the mean for a given x minus the current optimal\n",
    "        Z = imp / sigma  # Convert that to a z-score\n",
    "        \n",
    "        # This basically integrates from -inf up to Z and factors in the probability of actually\n",
    "        # getting the improvement value imp. We want the optimal expected improvement not just the \n",
    "        # highest best-case improvement.\n",
    "        ei = imp * norm.cdf(Z) + sigma * norm.pdf(Z)  \n",
    "        ei[sigma == 0.0] = 0.0\n",
    "\n",
    "        return ei\n",
    "    \n",
    "\n",
    "def opt_acquisition(X_sample, y_sample, model, n_surrogate):\n",
    "    \"\"\"Returns the X sample that optimizes the acquisition function\"\"\"\n",
    "    X = np.random.uniform(-1,1,n_surrogate).reshape(-1,1)\n",
    "    scores = expected_improvement(X, X_sample, y_sample, model)\n",
    "    return X[scores.argmax()]\n",
    "\n",
    "\n",
    "def bayes_opt(objective, n_random, n_bayes, n_surrogate=100):\n",
    "    \"\"\"Perform Bayesian optimization on the objective function.\n",
    "    \n",
    "    Args:\n",
    "        objective(function): The objective function to maximize.\n",
    "        n_random(int): The number of random samples to gather before\n",
    "            starting the bayesian optimization loops.\n",
    "        n_bayes(int): The number of Bayesian optimization loops to run.\n",
    "        n_surrogate(int, optional): The number of random samples to evaluate\n",
    "            on the surrogate model before evaluating the best option on the \n",
    "            objective function. Default 100.\n",
    "            \n",
    "    Returns:\n",
    "        List of length n_inputs containing the inputs to the objective function\n",
    "        that maximizes the return value.\n",
    "    \"\"\"\n",
    "    X_sample = np.random.uniform(-1,1,n_random).reshape(-1,1)\n",
    "    y_sample = objective(X_sample)\n",
    "    \n",
    "    print(X_sample.shape, y_sample.shape)\n",
    "    \n",
    "    model = GaussianProcessRegressor()\n",
    "    \n",
    "    for _ in range(n_bayes):\n",
    "        # Fit model to current data\n",
    "        model.fit(X_sample, y_sample)\n",
    "        \n",
    "        # Find next x that optimizes expected improvement\n",
    "        x = opt_acquisition(X_sample, y_sample, model, n_surrogate)\n",
    "        \n",
    "        # Evaluate that x\n",
    "        y = objective(x)\n",
    "        \n",
    "        X_sample = np.vstack((X_sample, x))\n",
    "        y_sample = np.vstack((y_sample, y))\n",
    "        \n",
    "    plt.hist(X_sample)\n",
    "    plt.show()\n",
    "    return X_sample[y_sample.argmax()]\n",
    "    \n",
    "        \n",
    "bayes_opt(f, 2, 20)"
   ]
  }
 ],
 "metadata": {
  "kernelspec": {
   "display_name": "Python 3",
   "language": "python",
   "name": "python3"
  },
  "language_info": {
   "codemirror_mode": {
    "name": "ipython",
    "version": 3
   },
   "file_extension": ".py",
   "mimetype": "text/x-python",
   "name": "python",
   "nbconvert_exporter": "python",
   "pygments_lexer": "ipython3",
   "version": "3.7.3"
  }
 },
 "nbformat": 4,
 "nbformat_minor": 2
}
