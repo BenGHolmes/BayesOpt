{
 "cells": [
  {
   "cell_type": "code",
   "execution_count": 78,
   "metadata": {},
   "outputs": [
    {
     "name": "stdout",
     "output_type": "stream",
     "text": [
      "Inputs:  [0.03372386 0.98923099 0.02554182 0.31245677]  gave max value of:  0.8317881316882177\n"
     ]
    }
   ],
   "source": [
    "import matplotlib.pyplot as plt\n",
    "import numpy as np\n",
    "from sklearn.gaussian_process import GaussianProcessRegressor\n",
    "from scipy.stats import norm\n",
    "from warnings import catch_warnings, simplefilter\n",
    "\n",
    "def f(X):\n",
    "    return -X[:,0] + (X[:,1]-X[:,2])*np.cos(X[:,0]) - X[:,3]**2\n",
    "\n",
    "X_range = [(0,1), (0,1), (0,1), (0,1)]\n",
    "X = np.zeros((10000,len(X_range)))\n",
    "for i,lims in enumerate(X_range):\n",
    "    X[:,i] = np.random.uniform(lims[0],lims[1],10000)\n",
    "    \n",
    "Y = f(X)\n",
    "X_opt = X[Y.argmax(),:]\n",
    "\n",
    "print(\"Inputs: \", X_opt, \" gave max value of: \", Y.max())"
   ]
  },
  {
   "cell_type": "code",
   "execution_count": 79,
   "metadata": {},
   "outputs": [
    {
     "data": {
      "image/png": "[encoded data removed]",
      "text/plain": [
       "<Figure size 432x288 with 1 Axes>"
      ]
     },
     "metadata": {
      "needs_background": "light"
     },
     "output_type": "display_data"
    },
    {
     "name": "stdout",
     "output_type": "stream",
     "text": [
      "Bayes estimate:  [0.05813662 0.93671219 0.00506352 0.28746649]  with true value  [0.78930108]\n",
      "True optimal:  [0.03372386 0.98923099 0.02554182 0.31245677]  with true value  [0.83178813]\n"
     ]
    }
   ],
   "source": [
    "def get_random_samples(X_range, n_random):\n",
    "    X = np.zeros((n_random, len(X_range)))\n",
    "    for i,lims in enumerate(X_range):\n",
    "        X[:,i] = np.random.uniform(lims[0],lims[1],n_random)\n",
    "    \n",
    "    return X\n",
    "\n",
    "\n",
    "def expected_improvement(X, X_sample, y_sample, model):\n",
    "    \"\"\"Return EI at each point in X.\n",
    "    \n",
    "    Computes EI at points X based on sampled data X_sample and Y_sample\n",
    "    \"\"\"\n",
    "    with catch_warnings():\n",
    "        # Ignore some weird sklearn errors in prediction\n",
    "        simplefilter(\"ignore\")\n",
    "        mu, sigma = model.predict(X, return_std=True)  # Get mean and variance at X\n",
    "        opt = y_sample.max()  # Current optimal\n",
    "        mu = mu.reshape(-1,1)\n",
    "        sigma = sigma.reshape(-1,1)\n",
    "\n",
    "        imp = mu - opt  # Improvement is the mean for a given x minus the current optimal\n",
    "        Z = imp / sigma  # Convert that to a z-score\n",
    "                \n",
    "        # This basically integrates from -inf up to Z and factors in the probability of actually\n",
    "        # getting the improvement value imp. We want the optimal expected improvement not just the \n",
    "        # highest best-case improvement.\n",
    "        ei = imp * norm.cdf(Z) + sigma * norm.pdf(Z)\n",
    "        ei[sigma == 0.0] = 0.0\n",
    "\n",
    "        return ei\n",
    "    \n",
    "\n",
    "def opt_acquisition(X_sample, X_range, y_sample, model, n_surrogate):\n",
    "    \"\"\"Returns the X sample that optimizes the acquisition function\"\"\"\n",
    "    X = get_random_samples(X_range, n_surrogate)\n",
    "    scores = expected_improvement(X, X_sample, y_sample, model)\n",
    "    return X[scores.argmax(), :].reshape(1,-1)\n",
    "\n",
    "\n",
    "def bayes_opt(objective, n_random, n_bayes, X_range, n_surrogate=100):\n",
    "    \"\"\"Perform Bayesian optimization on the objective function.\n",
    "    \n",
    "    Args:\n",
    "        objective(function): The objective function to maximize.\n",
    "        n_random(int): The number of random samples to gather before\n",
    "            starting the bayesian optimization loops.\n",
    "        n_bayes(int): The number of Bayesian optimization loops to run.\n",
    "        X_range(list): List of (low_bound, up_bound) tuples giving the range\n",
    "            for each of the variables of the objective function.\n",
    "        n_surrogate(int, optional): The number of random samples to evaluate\n",
    "            on the surrogate model before evaluating the best option on the \n",
    "            objective function. Default 100.\n",
    "            \n",
    "    Returns:\n",
    "        List of length n_inputs containing the inputs to the objective function\n",
    "        that maximizes the return value.\n",
    "    \"\"\"\n",
    "    X_sample = get_random_samples(X_range, n_random)\n",
    "    y_sample = objective(X_sample).reshape(-1,1)\n",
    "        \n",
    "    model = GaussianProcessRegressor()\n",
    "    \n",
    "    for _ in range(n_bayes):\n",
    "        # Fit model to current data\n",
    "        model.fit(X_sample, y_sample)\n",
    "\n",
    "        # Find next x that optimizes expected improvement\n",
    "        x = opt_acquisition(X_sample, X_range, y_sample, model, n_surrogate)\n",
    "        \n",
    "        # Evaluate that x\n",
    "        y = objective(x)\n",
    "                \n",
    "        X_sample = np.vstack((X_sample, x))\n",
    "        y_sample = np.vstack((y_sample, y))\n",
    "        \n",
    "    plt.hist(X_sample)\n",
    "    plt.show()\n",
    "    return X_sample[y_sample.argmax()]\n",
    "    \n",
    "        \n",
    "X_range = [(0,1), (0,1), (0,1), (0,1)]\n",
    "X_bayes = bayes_opt(f, 5, 100, X_range)\n",
    "\n",
    "print(\"Bayes estimate: \", X_bayes, \" with true value \", f(X_bayes.reshape(1,-1)))\n",
    "print(\"True optimal: \", X_opt, \" with true value \", f(X_opt.reshape(1,-1)))"
   ]
  },
  {
   "cell_type": "code",
   "execution_count": null,
   "metadata": {},
   "outputs": [],
   "source": []
  }
 ],
 "metadata": {
  "kernelspec": {
   "display_name": "Python 3",
   "language": "python",
   "name": "python3"
  },
  "language_info": {
   "codemirror_mode": {
    "name": "ipython",
    "version": 3
   },
   "file_extension": ".py",
   "mimetype": "text/x-python",
   "name": "python",
   "nbconvert_exporter": "python",
   "pygments_lexer": "ipython3",
   "version": "3.7.3"
  }
 },
 "nbformat": 4,
 "nbformat_minor": 2
}
